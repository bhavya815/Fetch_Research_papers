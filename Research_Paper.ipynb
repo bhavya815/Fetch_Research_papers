{
  "nbformat": 4,
  "nbformat_minor": 0,
  "metadata": {
    "colab": {
      "provenance": []
    },
    "kernelspec": {
      "name": "python3",
      "display_name": "Python 3"
    },
    "language_info": {
      "name": "python"
    }
  },
  "cells": [
    {
      "cell_type": "markdown",
      "source": [
        "**Libraries**\n"
      ],
      "metadata": {
        "id": "KUw7pi00XltT"
      }
    },
    {
      "cell_type": "code",
      "source": [
        "!pip install Biopython"
      ],
      "metadata": {
        "colab": {
          "base_uri": "https://localhost:8080/"
        },
        "id": "07xxql_6gy-N",
        "outputId": "3e20bf9a-8cd0-4a39-8205-c99b15d907ad"
      },
      "execution_count": 1,
      "outputs": [
        {
          "output_type": "stream",
          "name": "stdout",
          "text": [
            "Collecting Biopython\n",
            "  Downloading biopython-1.85-cp311-cp311-manylinux_2_17_x86_64.manylinux2014_x86_64.whl.metadata (13 kB)\n",
            "Requirement already satisfied: numpy in /usr/local/lib/python3.11/dist-packages (from Biopython) (1.26.4)\n",
            "Downloading biopython-1.85-cp311-cp311-manylinux_2_17_x86_64.manylinux2014_x86_64.whl (3.3 MB)\n",
            "\u001b[2K   \u001b[90m━━━━━━━━━━━━━━━━━━━━━━━━━━━━━━━━━━━━━━━━\u001b[0m \u001b[32m3.3/3.3 MB\u001b[0m \u001b[31m19.6 MB/s\u001b[0m eta \u001b[36m0:00:00\u001b[0m\n",
            "\u001b[?25hInstalling collected packages: Biopython\n",
            "Successfully installed Biopython-1.85\n"
          ]
        }
      ]
    },
    {
      "cell_type": "code",
      "source": [
        "import argparse\n",
        "import pandas as pd\n",
        "import re\n",
        "from Bio import Entrez"
      ],
      "metadata": {
        "id": "XVDNk3tU_kco"
      },
      "execution_count": 2,
      "outputs": []
    },
    {
      "cell_type": "markdown",
      "source": [
        "**This function fetches PubMed articles based on a search query using Entrez, returning a list of articles in XML format.**\n",
        "\n",
        "\n",
        "\n"
      ],
      "metadata": {
        "id": "VVhATHicWPi3"
      }
    },
    {
      "cell_type": "code",
      "source": [
        "def fetch_pubmed_papers(query, max_results=50):\n",
        "    \"\"\"Fetches papers from PubMed based on the query.\"\"\"\n",
        "    Entrez.email = \"bhavyasri@example.com\"\n",
        "\n",
        "    try:\n",
        "        handle = Entrez.esearch(db=\"pubmed\", term=query, retmax=max_results)\n",
        "        record = Entrez.read(handle)\n",
        "        pmid_list = record[\"IdList\"]\n",
        "\n",
        "        if not pmid_list:\n",
        "            print(\"No results found for the given query.\")\n",
        "            return []\n",
        "\n",
        "        handle = Entrez.efetch(db=\"pubmed\", id=\",\".join(pmid_list), retmode=\"xml\")\n",
        "        papers = Entrez.read(handle)\n",
        "        return papers[\"PubmedArticle\"]\n",
        "    except Exception as e:\n",
        "        print(f\"Error fetching data: {e}\")\n",
        "        return []"
      ],
      "metadata": {
        "id": "Vn7PuBGE_rWZ"
      },
      "execution_count": 3,
      "outputs": []
    },
    {
      "cell_type": "markdown",
      "source": [
        "**This function extracts metadata from PubMed articles, filters for non-academic authors affiliated with companies, and captures corresponding author emails.**"
      ],
      "metadata": {
        "id": "QRbdli2IWuwR"
      }
    },
    {
      "cell_type": "code",
      "source": [
        "def extract_paper_info(papers):\n",
        "    \"\"\"Extracts necessary metadata and filters for non-academic authors.\"\"\"\n",
        "    results = []\n",
        "\n",
        "    for paper in papers:\n",
        "        try:\n",
        "            PubmedID= paper[\"MedlineCitation\"][\"PMID\"]\n",
        "            Title= paper[\"MedlineCitation\"][\"Article\"][\"ArticleTitle\"]\n",
        "            Publication_Date= paper[\"MedlineCitation\"][\"Article\"][\"Journal\"][\"JournalIssue\"][\"PubDate\"]\n",
        "            Non_academic_Authors= paper[\"MedlineCitation\"][\"Article\"].get(\"AuthorList\", [])\n",
        "\n",
        "            Publication_Date= \" \".join([str(Publication_Date.get(k, \"\")) for k in [\"Year\", \"Month\", \"Day\"] if Publication_Date.get(k)])\n",
        "\n",
        "            Non_academic_authors = []\n",
        "            Company_affiliations = []\n",
        "            Corresponding_Author_email = None\n",
        "\n",
        "            for author in Non_academic_Authors:\n",
        "                if \"AffiliationInfo\" in author:\n",
        "                    for aff in author[\"AffiliationInfo\"]:\n",
        "                        affiliation = aff[\"Affiliation\"]\n",
        "\n",
        "                        if re.search(r\"\\b(pharma|biotech|laboratories|inc|corp|gmbh|ltd|llc|co.)\\b\", affiliation, re.I):\n",
        "                            Non_academic_authors.append(f\"{author['ForeName']} {author['LastName']}\")\n",
        "                            Company_affiliations.append(affiliation)\n",
        "\n",
        "                        email_match = re.search(r\"[a-zA-Z0-9._%+-]+@[a-zA-Z0-9.-]+\\.[a-zA-Z]{2,}\", affiliation)\n",
        "                        if email_match and not Corresponding_Author_email:\n",
        "                            Corresponding_Author_email = email_match.group()\n",
        "\n",
        "            if Company_affiliations:\n",
        "                results.append([PubmedID, Title, Publication_Date, \", \".join(Non_academic_authors), \", \".join(Company_affiliations), Corresponding_Author_email])\n",
        "\n",
        "        except Exception as e:\n",
        "            print(f\"Error processing a paper: {e}\")\n",
        "\n",
        "    return results"
      ],
      "metadata": {
        "id": "qEmibunM_vJ2"
      },
      "execution_count": 4,
      "outputs": []
    },
    {
      "cell_type": "markdown",
      "source": [
        "**This function saves the extracted PubMed article data to a CSV file.**\n"
      ],
      "metadata": {
        "id": "XDRYhDHHW7zI"
      }
    },
    {
      "cell_type": "code",
      "source": [
        "def save_to_csv(data, filename):\n",
        "    \"\"\"Saves extracted data to a CSV file.\"\"\"\n",
        "    df = pd.DataFrame(data, columns=[\"PubmedID\", \"Title\", \"Publication Date\", \"Non-academic Authors\", \"Company Affiliations\", \"Corresponding Author Email\"])\n",
        "    df.to_csv(filename, index=False)\n",
        "    print(f\"Results saved as {filename}\")"
      ],
      "metadata": {
        "id": "eRgRJZDb_0pV"
      },
      "execution_count": 5,
      "outputs": []
    },
    {
      "cell_type": "markdown",
      "source": [
        "**This function processes command-line arguments, fetches PubMed papers, extracts relevant data, and either saves it to a CSV file or prints it to the console.**\n"
      ],
      "metadata": {
        "id": "abH41sM1XFyJ"
      }
    },
    {
      "cell_type": "code",
      "source": [
        "import argparse\n",
        "\n",
        "def main():\n",
        "    parser = argparse.ArgumentParser(description=\"Fetch PubMed papers with non-academic authors.\")\n",
        "\n",
        "    # Accepts the PubMed query string\n",
        "    parser.add_argument(\"--query\", \"-q\", required=True, help=\"PubMed query string\")\n",
        "\n",
        "    # Corrected file output option\n",
        "    parser.add_argument(\"--file\", \"-f\", help=\"Output CSV file name (if not provided, results are printed to console)\")\n",
        "\n",
        "    # Debug mode option\n",
        "    parser.add_argument(\"--debug\", \"-d\", action=\"store_true\", help=\"Enable debug mode\")\n",
        "\n",
        "    args = parser.parse_args()\n",
        "\n",
        "    if args.debug:\n",
        "        print(\"[DEBUG] Debug mode enabled.\")\n",
        "\n",
        "    papers = fetch_pubmed_papers(args.query, max_results=50)\n",
        "    filtered_data = extract_paper_info(papers)\n",
        "\n",
        "    if len(filtered_data) < 10:\n",
        "        print(f\"Warning: Only {len(filtered_data)} results found. Try adjusting the query.\")\n",
        "    else:\n",
        "        print(f\"Successfully retrieved {len(filtered_data)} papers.\")\n",
        "\n",
        "    # Save to CSV or print results\n",
        "    if args.file:\n",
        "        save_to_csv(filtered_data, args.file)\n",
        "    else:\n",
        "        print(\"\\n--- Results ---\\n\")\n",
        "        for row in filtered_data:\n",
        "            print(row)\n",
        "\n"
      ],
      "metadata": {
        "id": "Y-dg_PWe_4S3"
      },
      "execution_count": 6,
      "outputs": []
    },
    {
      "cell_type": "markdown",
      "source": [
        "**This script detects if it's running in Google Colab, runs a predefined PubMed query, saves results to a CSV, or executes the CLI-based `main()` function otherwise.**\n"
      ],
      "metadata": {
        "id": "SVW2WF4zXPdd"
      }
    },
    {
      "cell_type": "code",
      "source": [
        "if __name__ == \"__main__\":\n",
        "    import sys\n",
        "\n",
        "    # Detect if running inside Google Colab\n",
        "    if \"google.colab\" in sys.modules:\n",
        "        query = \"biotech OR pharma\"  # Modify this query as needed\n",
        "        output_file = \"pubmed_results.csv\"\n",
        "\n",
        "        print(f\"Running in Google Colab with query: {query}\")\n",
        "        papers = fetch_pubmed_papers(query, max_results=50)\n",
        "        filtered_data = extract_paper_info(papers)\n",
        "        save_to_csv(filtered_data, output_file)\n",
        "    else:\n",
        "        main()"
      ],
      "metadata": {
        "colab": {
          "base_uri": "https://localhost:8080/"
        },
        "id": "5LZ64RVYAJY7",
        "outputId": "9adc6ed8-351c-4258-feab-7af532b28668"
      },
      "execution_count": 7,
      "outputs": [
        {
          "output_type": "stream",
          "name": "stdout",
          "text": [
            "Running in Google Colab with query: biotech OR pharma\n",
            "Results saved as pubmed_results.csv\n"
          ]
        }
      ]
    },
    {
      "cell_type": "markdown",
      "source": [
        "**This code loads the `pubmed_results.csv` file into a pandas DataFrame and displays the first five rows.**\n"
      ],
      "metadata": {
        "id": "Ocmq8mYoXgyy"
      }
    },
    {
      "cell_type": "code",
      "source": [
        "import pandas as pd\n",
        "\n",
        "df = pd.read_csv(\"pubmed_results.csv\")\n",
        "df.head()  # Display first 5 rows"
      ],
      "metadata": {
        "colab": {
          "base_uri": "https://localhost:8080/",
          "height": 362
        },
        "id": "4Ai36rRWAQai",
        "outputId": "d61ad3e2-b3b3-4693-9ed9-375eb07a4896"
      },
      "execution_count": 9,
      "outputs": [
        {
          "output_type": "execute_result",
          "data": {
            "text/plain": [
              "   PubmedID                                              Title  \\\n",
              "0  40066684  Mechanistic Investigation into the Phase Separ...   \n",
              "1  40066659  Inhibition of HDAC4 in granulosa cells improve...   \n",
              "2  40066624  Enzyme cycling method using hypoxanthine-guani...   \n",
              "3  40066621  Lyophilized monkeypox mRNA lipid nanoparticle ...   \n",
              "4  40066446  Exercise boost after surgery improves survival...   \n",
              "\n",
              "  Publication Date                               Non-academic Authors  \\\n",
              "0      2025 Mar 11  Malte Bøgh Senniksen, Nicole Wyttenbach, Susan...   \n",
              "1      2025 Mar 11  Zhenzi Zuo, Yibing Bao, Lin Lin, Hengxing Li, ...   \n",
              "2      2025 Mar 11               Tatsuya Hirata, Shin-Ichi Sakasegawa   \n",
              "3         2025 Dec  Bin Wang, Quanyi Yin, Li Yi, Caixia Su, Yang W...   \n",
              "4             2025  Rikke Stagaard, Adina Jensen, Jan Erik Strøbec...   \n",
              "\n",
              "                                Company Affiliations  \\\n",
              "0  Pharmaceutical R&D, F. Hoffmann-La Roche Ltd.,...   \n",
              "1  State Key Laboratory of Animal Biotech Breedin...   \n",
              "2  R&D Group, Diagnostics Dept., Asahi Kasei Phar...   \n",
              "3  Department of Research & Development, Yither B...   \n",
              "4  Biotech Research and Innovation Center (BRIC),...   \n",
              "\n",
              "  Corresponding Author Email  \n",
              "0                        NaN  \n",
              "1                        NaN  \n",
              "2     shigeru-ueda@jccls.org  \n",
              "3                        NaN  \n",
              "4                        NaN  "
            ],
            "text/html": [
              "\n",
              "  <div id=\"df-fbb57efc-99f6-46c9-bf6d-206bd6efe1ba\" class=\"colab-df-container\">\n",
              "    <div>\n",
              "<style scoped>\n",
              "    .dataframe tbody tr th:only-of-type {\n",
              "        vertical-align: middle;\n",
              "    }\n",
              "\n",
              "    .dataframe tbody tr th {\n",
              "        vertical-align: top;\n",
              "    }\n",
              "\n",
              "    .dataframe thead th {\n",
              "        text-align: right;\n",
              "    }\n",
              "</style>\n",
              "<table border=\"1\" class=\"dataframe\">\n",
              "  <thead>\n",
              "    <tr style=\"text-align: right;\">\n",
              "      <th></th>\n",
              "      <th>PubmedID</th>\n",
              "      <th>Title</th>\n",
              "      <th>Publication Date</th>\n",
              "      <th>Non-academic Authors</th>\n",
              "      <th>Company Affiliations</th>\n",
              "      <th>Corresponding Author Email</th>\n",
              "    </tr>\n",
              "  </thead>\n",
              "  <tbody>\n",
              "    <tr>\n",
              "      <th>0</th>\n",
              "      <td>40066684</td>\n",
              "      <td>Mechanistic Investigation into the Phase Separ...</td>\n",
              "      <td>2025 Mar 11</td>\n",
              "      <td>Malte Bøgh Senniksen, Nicole Wyttenbach, Susan...</td>\n",
              "      <td>Pharmaceutical R&amp;D, F. Hoffmann-La Roche Ltd.,...</td>\n",
              "      <td>NaN</td>\n",
              "    </tr>\n",
              "    <tr>\n",
              "      <th>1</th>\n",
              "      <td>40066659</td>\n",
              "      <td>Inhibition of HDAC4 in granulosa cells improve...</td>\n",
              "      <td>2025 Mar 11</td>\n",
              "      <td>Zhenzi Zuo, Yibing Bao, Lin Lin, Hengxing Li, ...</td>\n",
              "      <td>State Key Laboratory of Animal Biotech Breedin...</td>\n",
              "      <td>NaN</td>\n",
              "    </tr>\n",
              "    <tr>\n",
              "      <th>2</th>\n",
              "      <td>40066624</td>\n",
              "      <td>Enzyme cycling method using hypoxanthine-guani...</td>\n",
              "      <td>2025 Mar 11</td>\n",
              "      <td>Tatsuya Hirata, Shin-Ichi Sakasegawa</td>\n",
              "      <td>R&amp;D Group, Diagnostics Dept., Asahi Kasei Phar...</td>\n",
              "      <td>shigeru-ueda@jccls.org</td>\n",
              "    </tr>\n",
              "    <tr>\n",
              "      <th>3</th>\n",
              "      <td>40066621</td>\n",
              "      <td>Lyophilized monkeypox mRNA lipid nanoparticle ...</td>\n",
              "      <td>2025 Dec</td>\n",
              "      <td>Bin Wang, Quanyi Yin, Li Yi, Caixia Su, Yang W...</td>\n",
              "      <td>Department of Research &amp; Development, Yither B...</td>\n",
              "      <td>NaN</td>\n",
              "    </tr>\n",
              "    <tr>\n",
              "      <th>4</th>\n",
              "      <td>40066446</td>\n",
              "      <td>Exercise boost after surgery improves survival...</td>\n",
              "      <td>2025</td>\n",
              "      <td>Rikke Stagaard, Adina Jensen, Jan Erik Strøbec...</td>\n",
              "      <td>Biotech Research and Innovation Center (BRIC),...</td>\n",
              "      <td>NaN</td>\n",
              "    </tr>\n",
              "  </tbody>\n",
              "</table>\n",
              "</div>\n",
              "    <div class=\"colab-df-buttons\">\n",
              "\n",
              "  <div class=\"colab-df-container\">\n",
              "    <button class=\"colab-df-convert\" onclick=\"convertToInteractive('df-fbb57efc-99f6-46c9-bf6d-206bd6efe1ba')\"\n",
              "            title=\"Convert this dataframe to an interactive table.\"\n",
              "            style=\"display:none;\">\n",
              "\n",
              "  <svg xmlns=\"http://www.w3.org/2000/svg\" height=\"24px\" viewBox=\"0 -960 960 960\">\n",
              "    <path d=\"M120-120v-720h720v720H120Zm60-500h600v-160H180v160Zm220 220h160v-160H400v160Zm0 220h160v-160H400v160ZM180-400h160v-160H180v160Zm440 0h160v-160H620v160ZM180-180h160v-160H180v160Zm440 0h160v-160H620v160Z\"/>\n",
              "  </svg>\n",
              "    </button>\n",
              "\n",
              "  <style>\n",
              "    .colab-df-container {\n",
              "      display:flex;\n",
              "      gap: 12px;\n",
              "    }\n",
              "\n",
              "    .colab-df-convert {\n",
              "      background-color: #E8F0FE;\n",
              "      border: none;\n",
              "      border-radius: 50%;\n",
              "      cursor: pointer;\n",
              "      display: none;\n",
              "      fill: #1967D2;\n",
              "      height: 32px;\n",
              "      padding: 0 0 0 0;\n",
              "      width: 32px;\n",
              "    }\n",
              "\n",
              "    .colab-df-convert:hover {\n",
              "      background-color: #E2EBFA;\n",
              "      box-shadow: 0px 1px 2px rgba(60, 64, 67, 0.3), 0px 1px 3px 1px rgba(60, 64, 67, 0.15);\n",
              "      fill: #174EA6;\n",
              "    }\n",
              "\n",
              "    .colab-df-buttons div {\n",
              "      margin-bottom: 4px;\n",
              "    }\n",
              "\n",
              "    [theme=dark] .colab-df-convert {\n",
              "      background-color: #3B4455;\n",
              "      fill: #D2E3FC;\n",
              "    }\n",
              "\n",
              "    [theme=dark] .colab-df-convert:hover {\n",
              "      background-color: #434B5C;\n",
              "      box-shadow: 0px 1px 3px 1px rgba(0, 0, 0, 0.15);\n",
              "      filter: drop-shadow(0px 1px 2px rgba(0, 0, 0, 0.3));\n",
              "      fill: #FFFFFF;\n",
              "    }\n",
              "  </style>\n",
              "\n",
              "    <script>\n",
              "      const buttonEl =\n",
              "        document.querySelector('#df-fbb57efc-99f6-46c9-bf6d-206bd6efe1ba button.colab-df-convert');\n",
              "      buttonEl.style.display =\n",
              "        google.colab.kernel.accessAllowed ? 'block' : 'none';\n",
              "\n",
              "      async function convertToInteractive(key) {\n",
              "        const element = document.querySelector('#df-fbb57efc-99f6-46c9-bf6d-206bd6efe1ba');\n",
              "        const dataTable =\n",
              "          await google.colab.kernel.invokeFunction('convertToInteractive',\n",
              "                                                    [key], {});\n",
              "        if (!dataTable) return;\n",
              "\n",
              "        const docLinkHtml = 'Like what you see? Visit the ' +\n",
              "          '<a target=\"_blank\" href=https://colab.research.google.com/notebooks/data_table.ipynb>data table notebook</a>'\n",
              "          + ' to learn more about interactive tables.';\n",
              "        element.innerHTML = '';\n",
              "        dataTable['output_type'] = 'display_data';\n",
              "        await google.colab.output.renderOutput(dataTable, element);\n",
              "        const docLink = document.createElement('div');\n",
              "        docLink.innerHTML = docLinkHtml;\n",
              "        element.appendChild(docLink);\n",
              "      }\n",
              "    </script>\n",
              "  </div>\n",
              "\n",
              "\n",
              "<div id=\"df-bdbdff1d-a55e-4254-906c-80a701194abd\">\n",
              "  <button class=\"colab-df-quickchart\" onclick=\"quickchart('df-bdbdff1d-a55e-4254-906c-80a701194abd')\"\n",
              "            title=\"Suggest charts\"\n",
              "            style=\"display:none;\">\n",
              "\n",
              "<svg xmlns=\"http://www.w3.org/2000/svg\" height=\"24px\"viewBox=\"0 0 24 24\"\n",
              "     width=\"24px\">\n",
              "    <g>\n",
              "        <path d=\"M19 3H5c-1.1 0-2 .9-2 2v14c0 1.1.9 2 2 2h14c1.1 0 2-.9 2-2V5c0-1.1-.9-2-2-2zM9 17H7v-7h2v7zm4 0h-2V7h2v10zm4 0h-2v-4h2v4z\"/>\n",
              "    </g>\n",
              "</svg>\n",
              "  </button>\n",
              "\n",
              "<style>\n",
              "  .colab-df-quickchart {\n",
              "      --bg-color: #E8F0FE;\n",
              "      --fill-color: #1967D2;\n",
              "      --hover-bg-color: #E2EBFA;\n",
              "      --hover-fill-color: #174EA6;\n",
              "      --disabled-fill-color: #AAA;\n",
              "      --disabled-bg-color: #DDD;\n",
              "  }\n",
              "\n",
              "  [theme=dark] .colab-df-quickchart {\n",
              "      --bg-color: #3B4455;\n",
              "      --fill-color: #D2E3FC;\n",
              "      --hover-bg-color: #434B5C;\n",
              "      --hover-fill-color: #FFFFFF;\n",
              "      --disabled-bg-color: #3B4455;\n",
              "      --disabled-fill-color: #666;\n",
              "  }\n",
              "\n",
              "  .colab-df-quickchart {\n",
              "    background-color: var(--bg-color);\n",
              "    border: none;\n",
              "    border-radius: 50%;\n",
              "    cursor: pointer;\n",
              "    display: none;\n",
              "    fill: var(--fill-color);\n",
              "    height: 32px;\n",
              "    padding: 0;\n",
              "    width: 32px;\n",
              "  }\n",
              "\n",
              "  .colab-df-quickchart:hover {\n",
              "    background-color: var(--hover-bg-color);\n",
              "    box-shadow: 0 1px 2px rgba(60, 64, 67, 0.3), 0 1px 3px 1px rgba(60, 64, 67, 0.15);\n",
              "    fill: var(--button-hover-fill-color);\n",
              "  }\n",
              "\n",
              "  .colab-df-quickchart-complete:disabled,\n",
              "  .colab-df-quickchart-complete:disabled:hover {\n",
              "    background-color: var(--disabled-bg-color);\n",
              "    fill: var(--disabled-fill-color);\n",
              "    box-shadow: none;\n",
              "  }\n",
              "\n",
              "  .colab-df-spinner {\n",
              "    border: 2px solid var(--fill-color);\n",
              "    border-color: transparent;\n",
              "    border-bottom-color: var(--fill-color);\n",
              "    animation:\n",
              "      spin 1s steps(1) infinite;\n",
              "  }\n",
              "\n",
              "  @keyframes spin {\n",
              "    0% {\n",
              "      border-color: transparent;\n",
              "      border-bottom-color: var(--fill-color);\n",
              "      border-left-color: var(--fill-color);\n",
              "    }\n",
              "    20% {\n",
              "      border-color: transparent;\n",
              "      border-left-color: var(--fill-color);\n",
              "      border-top-color: var(--fill-color);\n",
              "    }\n",
              "    30% {\n",
              "      border-color: transparent;\n",
              "      border-left-color: var(--fill-color);\n",
              "      border-top-color: var(--fill-color);\n",
              "      border-right-color: var(--fill-color);\n",
              "    }\n",
              "    40% {\n",
              "      border-color: transparent;\n",
              "      border-right-color: var(--fill-color);\n",
              "      border-top-color: var(--fill-color);\n",
              "    }\n",
              "    60% {\n",
              "      border-color: transparent;\n",
              "      border-right-color: var(--fill-color);\n",
              "    }\n",
              "    80% {\n",
              "      border-color: transparent;\n",
              "      border-right-color: var(--fill-color);\n",
              "      border-bottom-color: var(--fill-color);\n",
              "    }\n",
              "    90% {\n",
              "      border-color: transparent;\n",
              "      border-bottom-color: var(--fill-color);\n",
              "    }\n",
              "  }\n",
              "</style>\n",
              "\n",
              "  <script>\n",
              "    async function quickchart(key) {\n",
              "      const quickchartButtonEl =\n",
              "        document.querySelector('#' + key + ' button');\n",
              "      quickchartButtonEl.disabled = true;  // To prevent multiple clicks.\n",
              "      quickchartButtonEl.classList.add('colab-df-spinner');\n",
              "      try {\n",
              "        const charts = await google.colab.kernel.invokeFunction(\n",
              "            'suggestCharts', [key], {});\n",
              "      } catch (error) {\n",
              "        console.error('Error during call to suggestCharts:', error);\n",
              "      }\n",
              "      quickchartButtonEl.classList.remove('colab-df-spinner');\n",
              "      quickchartButtonEl.classList.add('colab-df-quickchart-complete');\n",
              "    }\n",
              "    (() => {\n",
              "      let quickchartButtonEl =\n",
              "        document.querySelector('#df-bdbdff1d-a55e-4254-906c-80a701194abd button');\n",
              "      quickchartButtonEl.style.display =\n",
              "        google.colab.kernel.accessAllowed ? 'block' : 'none';\n",
              "    })();\n",
              "  </script>\n",
              "</div>\n",
              "\n",
              "    </div>\n",
              "  </div>\n"
            ],
            "application/vnd.google.colaboratory.intrinsic+json": {
              "type": "dataframe",
              "variable_name": "df",
              "summary": "{\n  \"name\": \"df\",\n  \"rows\": 25,\n  \"fields\": [\n    {\n      \"column\": \"PubmedID\",\n      \"properties\": {\n        \"dtype\": \"number\",\n        \"std\": 945,\n        \"min\": 40063733,\n        \"max\": 40066684,\n        \"num_unique_values\": 25,\n        \"samples\": [\n          40066175,\n          40064858,\n          40066684\n        ],\n        \"semantic_type\": \"\",\n        \"description\": \"\"\n      }\n    },\n    {\n      \"column\": \"Title\",\n      \"properties\": {\n        \"dtype\": \"string\",\n        \"num_unique_values\": 25,\n        \"samples\": [\n          \"Augmenting the human interactome for disease prediction through gene networks inferred from human cell atlas.\",\n          \"Rare pathogenic structural variants show potential to enhance prostate cancer germline testing for African men.\",\n          \"Mechanistic Investigation into the Phase Separation Behavior of Soluplus in the Presence of Biorelevant Media.\"\n        ],\n        \"semantic_type\": \"\",\n        \"description\": \"\"\n      }\n    },\n    {\n      \"column\": \"Publication Date\",\n      \"properties\": {\n        \"dtype\": \"category\",\n        \"num_unique_values\": 7,\n        \"samples\": [\n          \"2025 Mar 11\",\n          \"2025 Dec\",\n          \"2025 Feb 14\"\n        ],\n        \"semantic_type\": \"\",\n        \"description\": \"\"\n      }\n    },\n    {\n      \"column\": \"Non-academic Authors\",\n      \"properties\": {\n        \"dtype\": \"string\",\n        \"num_unique_values\": 25,\n        \"samples\": [\n          \"Insuk Lee\",\n          \"Joachim Weischenfeldt\",\n          \"Malte B\\u00f8gh Senniksen, Nicole Wyttenbach, Susanne Page, Wiebke Saal, Martin Kuentz\"\n        ],\n        \"semantic_type\": \"\",\n        \"description\": \"\"\n      }\n    },\n    {\n      \"column\": \"Company Affiliations\",\n      \"properties\": {\n        \"dtype\": \"string\",\n        \"num_unique_values\": 25,\n        \"samples\": [\n          \"POSTECH Biotech Center, Pohang University of Science and Technology (POSTECH), Pohang, Republic of Korea.\",\n          \"Biotech Research & Innovation Centre, University of Copenhagen, DK-2200, Copenhagen, Denmark.\",\n          \"Pharmaceutical R&D, F. Hoffmann-La Roche Ltd., Grenzacherstrasse 124, 4070 Basel, Switzerland., Roche Pharma Research and Early Development, Therapeutic Modalities, Roche Innovation Center Basel, F. Hoffmann-La Roche Ltd., Grenzacherstrasse 124, 4070 Basel, Switzerland., Pharmaceutical R&D, F. Hoffmann-La Roche Ltd., Grenzacherstrasse 124, 4070 Basel, Switzerland., Roche Pharma Research and Early Development, Therapeutic Modalities, Roche Innovation Center Basel, F. Hoffmann-La Roche Ltd., Grenzacherstrasse 124, 4070 Basel, Switzerland., Institute of Pharma Technology, University of Applied Sciences and Arts Northwestern Switzerland, Hofackerstrasse 30, CH-4132 Muttenz, Switzerland.\"\n        ],\n        \"semantic_type\": \"\",\n        \"description\": \"\"\n      }\n    },\n    {\n      \"column\": \"Corresponding Author Email\",\n      \"properties\": {\n        \"dtype\": \"category\",\n        \"num_unique_values\": 9,\n        \"samples\": [\n          \"liuj@zhejianghaichang.com\",\n          \"emasliah@ucsd.edu\",\n          \"herve.vanderschuren@kuleuven.be\"\n        ],\n        \"semantic_type\": \"\",\n        \"description\": \"\"\n      }\n    }\n  ]\n}"
            }
          },
          "metadata": {},
          "execution_count": 9
        }
      ]
    }
  ]
}